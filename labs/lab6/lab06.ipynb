{
 "cells": [
  {
   "cell_type": "markdown",
   "metadata": {},
   "source": [
    "## Lab 6\n",
    "### April 1, 2021.\n",
    "### Due April 11, 2021.\n",
    "\n"
   ]
  },
  {
   "cell_type": "markdown",
   "metadata": {},
   "source": [
    "This is less of a lab, and more of a problem set.\n",
    "\n",
    "For this problem set, you will reproduce a subset of results from the Dressel and Farid paper.\n",
    "[Here's a link to the paper.](https://advances.sciencemag.org/content/4/1/eaao5580.full)\n",
    "\n",
    "[Here's a link to the data they used.](https://farid.berkeley.edu/downloads/publications/scienceadvances17/)\n",
    "\n",
    "You will need to consult your earlier labs, particularly Labs 3, 4 and 5 for this problem set. Also, refer to this useful source on [logistic regression in Python.](https://towardsdatascience.com/logistic-regression-using-python-sklearn-numpy-mnist-handwriting-recognition-matplotlib-a6b31e2b166a)"
   ]
  },
  {
   "cell_type": "markdown",
   "metadata": {},
   "source": [
    "#### Problem 1\n",
    "For the first problem, you will reproduce column (B) of Table 2 in the paper (not including the figures in the square brackets). \n",
    "To do this, first figure out how you can set up `sklearn` to split a data set into training and testing sets, use the training set to create a model based on `LR_2`, and then compute the metrics listed in Table 2 on the testing set.\n",
    "Now repeat the process above 1000 times to get an average value for each of these metrics. Display the metrics in a table \n",
    "- Hint 1: Google for a neat feature in Pandas that helps you display dataframes as tables.\n",
    "- Hint 2: When splitting the data set into training and testing subsets, you will need to retain the corresponding indices so that you can compute the metrics for the Black and White groups. Here is [one resource to help you.](https://stackoverflow.com/questions/31521170/scikit-learn-train-test-split-with-indices) Feel free to look for others on the web.\n"
   ]
  },
  {
   "cell_type": "markdown",
   "metadata": {},
   "source": [
    "#### Problem 2\n",
    "Repeat problem 1 for the logistic regression model that uses 7 variables, reproducing Column A of Table 2."
   ]
  },
  {
   "cell_type": "markdown",
   "metadata": {},
   "source": [
    "#### Problem 3\n",
    "In the paper, when examining human decision-making about recidivism, Dressel and Farid state:\n",
    "> In conclusion, there is no sufficient evidence to suggest that including race has a significant impact on overall accuracy or fairness. The exclusion of race does not necessarily lead to the elimination of racial disparities in human recidivism prediction.\n",
    "\n",
    "Repeat Problem 1 with a logistic regression model in which race **IS** a feature variable. List the metrics you used in Problem 1 (i.e. the ones used in Table 2 of the paper) for both these models in a table. Let us call the two models `LR_2_NO_RACE` and `LR_2_PLUS_RACE` in the table.\n",
    "\n",
    "What can you conclude from your analysis? Comment on the difference between the metrics across the two different models to examine whether the exclusion of race leads to the elimination of racial disparities in human recidivism prediction. What do you believe are larger societal reasons for your results?"
   ]
  },
  {
   "cell_type": "code",
   "execution_count": null,
   "metadata": {},
   "outputs": [],
   "source": []
  }
 ],
 "metadata": {
  "kernelspec": {
   "display_name": "Python 3",
   "language": "python",
   "name": "python3"
  },
  "language_info": {
   "codemirror_mode": {
    "name": "ipython",
    "version": 3
   },
   "file_extension": ".py",
   "mimetype": "text/x-python",
   "name": "python",
   "nbconvert_exporter": "python",
   "pygments_lexer": "ipython3",
   "version": "3.7.3"
  }
 },
 "nbformat": 4,
 "nbformat_minor": 2
}
